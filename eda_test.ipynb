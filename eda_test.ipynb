{
 "cells": [
  {
   "cell_type": "code",
   "execution_count": 1,
   "metadata": {},
   "outputs": [],
   "source": [
    "\n",
    "import pandas as pd \n",
    "import numpy as np\n",
    "import seaborn as sns\n",
    "import matplotlib.pyplot as plt\n"
   ]
  },
  {
   "cell_type": "code",
   "execution_count": 67,
   "metadata": {},
   "outputs": [],
   "source": [
    "# Loading the data into dataframe\n",
    "df= pd.read_csv('train.csv', index_col='id')\n",
    "df_test=pd.read_csv('test.csv', index_col='id')"
   ]
  },
  {
   "cell_type": "code",
   "execution_count": 3,
   "metadata": {},
   "outputs": [
    {
     "name": "stdout",
     "output_type": "stream",
     "text": [
      "The shape of the train data: (900000, 32)\n",
      "The shape of the test data : (700000, 31)\n"
     ]
    }
   ],
   "source": [
    "\n",
    "print(f'The shape of the train data: {df.shape}')\n",
    "print(f'The shape of the test data : {df_test.shape}')"
   ]
  },
  {
   "cell_type": "code",
   "execution_count": 4,
   "metadata": {},
   "outputs": [],
   "source": [
    "# checking for null values\n",
    "\n",
    "# print(df.isnull().sum())\n",
    "# print(df_test.isnull().sum())  # There are no null values"
   ]
  },
  {
   "cell_type": "code",
   "execution_count": 12,
   "metadata": {},
   "outputs": [
    {
     "name": "stdout",
     "output_type": "stream",
     "text": [
      "<class 'pandas.core.frame.DataFrame'>\n",
      "Int64Index: 900000 entries, 0 to 899999\n",
      "Data columns (total 32 columns):\n",
      " #   Column  Non-Null Count   Dtype  \n",
      "---  ------  --------------   -----  \n",
      " 0   f_00    900000 non-null  float64\n",
      " 1   f_01    900000 non-null  float64\n",
      " 2   f_02    900000 non-null  float64\n",
      " 3   f_03    900000 non-null  float64\n",
      " 4   f_04    900000 non-null  float64\n",
      " 5   f_05    900000 non-null  float64\n",
      " 6   f_06    900000 non-null  float64\n",
      " 7   f_07    900000 non-null  int64  \n",
      " 8   f_08    900000 non-null  int64  \n",
      " 9   f_09    900000 non-null  int64  \n",
      " 10  f_10    900000 non-null  int64  \n",
      " 11  f_11    900000 non-null  int64  \n",
      " 12  f_12    900000 non-null  int64  \n",
      " 13  f_13    900000 non-null  int64  \n",
      " 14  f_14    900000 non-null  int64  \n",
      " 15  f_15    900000 non-null  int64  \n",
      " 16  f_16    900000 non-null  int64  \n",
      " 17  f_17    900000 non-null  int64  \n",
      " 18  f_18    900000 non-null  int64  \n",
      " 19  f_19    900000 non-null  float64\n",
      " 20  f_20    900000 non-null  float64\n",
      " 21  f_21    900000 non-null  float64\n",
      " 22  f_22    900000 non-null  float64\n",
      " 23  f_23    900000 non-null  float64\n",
      " 24  f_24    900000 non-null  float64\n",
      " 25  f_25    900000 non-null  float64\n",
      " 26  f_26    900000 non-null  float64\n",
      " 27  f_27    900000 non-null  object \n",
      " 28  f_28    900000 non-null  float64\n",
      " 29  f_29    900000 non-null  int64  \n",
      " 30  f_30    900000 non-null  int64  \n",
      " 31  target  900000 non-null  int64  \n",
      "dtypes: float64(16), int64(15), object(1)\n",
      "memory usage: 226.6+ MB\n"
     ]
    }
   ],
   "source": [
    "df.info()"
   ]
  },
  {
   "cell_type": "code",
   "execution_count": 5,
   "metadata": {},
   "outputs": [
    {
     "data": {
      "text/plain": [
       "Index(['f_00', 'f_01', 'f_02', 'f_03', 'f_04', 'f_05', 'f_06', 'f_07', 'f_08',\n",
       "       'f_09', 'f_10', 'f_11', 'f_12', 'f_13', 'f_14', 'f_15', 'f_16', 'f_17',\n",
       "       'f_18', 'f_19', 'f_20', 'f_21', 'f_22', 'f_23', 'f_24', 'f_25', 'f_26',\n",
       "       'f_27', 'f_28', 'f_29', 'f_30', 'target'],\n",
       "      dtype='object')"
      ]
     },
     "execution_count": 5,
     "metadata": {},
     "output_type": "execute_result"
    }
   ],
   "source": [
    "## checking the column names\n",
    "df.columns"
   ]
  },
  {
   "cell_type": "markdown",
   "metadata": {},
   "source": []
  },
  {
   "cell_type": "code",
   "execution_count": 6,
   "metadata": {},
   "outputs": [
    {
     "name": "stdout",
     "output_type": "stream",
     "text": [
      "f_00      float64\n",
      "f_01      float64\n",
      "f_02      float64\n",
      "f_03      float64\n",
      "f_04      float64\n",
      "f_05      float64\n",
      "f_06      float64\n",
      "f_07        int64\n",
      "f_08        int64\n",
      "f_09        int64\n",
      "f_10        int64\n",
      "f_11        int64\n",
      "f_12        int64\n",
      "f_13        int64\n",
      "f_14        int64\n",
      "f_15        int64\n",
      "f_16        int64\n",
      "f_17        int64\n",
      "f_18        int64\n",
      "f_19      float64\n",
      "f_20      float64\n",
      "f_21      float64\n",
      "f_22      float64\n",
      "f_23      float64\n",
      "f_24      float64\n",
      "f_25      float64\n",
      "f_26      float64\n",
      "f_27       object\n",
      "f_28      float64\n",
      "f_29        int64\n",
      "f_30        int64\n",
      "target      int64\n",
      "dtype: object\n"
     ]
    }
   ],
   "source": [
    "print(df.dtypes)"
   ]
  },
  {
   "cell_type": "code",
   "execution_count": 52,
   "metadata": {},
   "outputs": [],
   "source": [
    "from sklearn.preprocessing import OrdinalEncoder"
   ]
  },
  {
   "cell_type": "code",
   "execution_count": 56,
   "metadata": {},
   "outputs": [
    {
     "data": {
      "text/plain": [
       "id\n",
       "0         ABABDADBAB\n",
       "1         ACACCADCEB\n",
       "2         AAAEABCKAD\n",
       "3         BDBBAACBCB\n",
       "4         BDBCBBCHFE\n",
       "             ...    \n",
       "899995    BABBCBBBED\n",
       "899996    BBBGBBDQBE\n",
       "899997    AEBEDBBHBA\n",
       "899998    ADBAAADDAE\n",
       "899999    BCAACADSCE\n",
       "Name: f_27, Length: 900000, dtype: object"
      ]
     },
     "execution_count": 56,
     "metadata": {},
     "output_type": "execute_result"
    }
   ],
   "source": [
    "df.f_27"
   ]
  },
  {
   "cell_type": "code",
   "execution_count": 62,
   "metadata": {},
   "outputs": [
    {
     "data": {
      "text/plain": [
       "['f_07',\n",
       " 'f_08',\n",
       " 'f_09',\n",
       " 'f_10',\n",
       " 'f_11',\n",
       " 'f_12',\n",
       " 'f_13',\n",
       " 'f_14',\n",
       " 'f_15',\n",
       " 'f_16',\n",
       " 'f_17',\n",
       " 'f_18',\n",
       " 'f_29',\n",
       " 'f_30',\n",
       " 'target']"
      ]
     },
     "execution_count": 62,
     "metadata": {},
     "output_type": "execute_result"
    }
   ],
   "source": [
    "\n",
    "# df.select_dtypes(include=[float]).columns.values.tolist()\n",
    "# df.select_dtypes(include=[object]).columns.values.tolist()\n",
    "# df.select_dtypes(include=[int]).columns.values.tolist()"
   ]
  },
  {
   "cell_type": "code",
   "execution_count": 7,
   "metadata": {},
   "outputs": [
    {
     "name": "stdout",
     "output_type": "stream",
     "text": [
      "                f_00           f_01           f_02           f_03  \\\n",
      "count  900000.000000  900000.000000  900000.000000  900000.000000   \n",
      "mean       -0.000286       0.001165       0.001174      -0.001368   \n",
      "std         0.998888       0.999193       1.000514       1.000175   \n",
      "min        -4.599856      -4.682199      -4.642676      -4.658816   \n",
      "25%        -0.675490      -0.675162      -0.674369      -0.676114   \n",
      "50%         0.001144       0.002014       0.002218      -0.002227   \n",
      "75%         0.674337       0.675021       0.677505       0.672544   \n",
      "max         4.749301       4.815699       4.961982       4.454920   \n",
      "\n",
      "                f_04           f_05           f_06           f_07  \\\n",
      "count  900000.000000  900000.000000  900000.000000  900000.000000   \n",
      "mean       -0.000571       0.000284      -0.000709       2.031460   \n",
      "std         1.000167       0.999875       0.999942       1.656172   \n",
      "min        -4.748501      -4.750214      -4.842919       0.000000   \n",
      "25%        -0.675909      -0.673437      -0.674876       1.000000   \n",
      "50%        -0.001662      -0.000438      -0.001492       2.000000   \n",
      "75%         0.673789       0.675028       0.674749       3.000000   \n",
      "max         4.948983       4.971881       4.822668      15.000000   \n",
      "\n",
      "                f_08           f_09  ...           f_21           f_22  \\\n",
      "count  900000.000000  900000.000000  ...  900000.000000  900000.000000   \n",
      "mean        2.057998       2.362431  ...      -0.156307      -0.009273   \n",
      "std         1.590955       1.637706  ...       2.484706       2.450797   \n",
      "min         0.000000       0.000000  ...     -13.310146     -11.853530   \n",
      "25%         1.000000       1.000000  ...      -1.820063      -1.645585   \n",
      "50%         2.000000       2.000000  ...      -0.152668       0.030850   \n",
      "75%         3.000000       3.000000  ...       1.507071       1.661676   \n",
      "max        16.000000      14.000000  ...      14.455426      11.344080   \n",
      "\n",
      "                f_23           f_24           f_25           f_26  \\\n",
      "count  900000.000000  900000.000000  900000.000000  900000.000000   \n",
      "mean       -0.369459      -0.342738       0.176549       0.357591   \n",
      "std         2.453405       2.386941       2.416959       2.476020   \n",
      "min       -12.301097     -11.416189     -11.918306     -14.300577   \n",
      "25%        -2.019739      -1.955956      -1.440424      -1.261598   \n",
      "50%        -0.390966      -0.340746       0.160912       0.404212   \n",
      "75%         1.255408       1.266673       1.795928       2.028219   \n",
      "max        12.247100      12.389844      12.529179      12.913041   \n",
      "\n",
      "                f_28           f_29           f_30         target  \n",
      "count  900000.000000  900000.000000  900000.000000  900000.000000  \n",
      "mean       -0.380876       0.345661       1.002654       0.486488  \n",
      "std       238.773054       0.475584       0.818989       0.499818  \n",
      "min     -1229.753052       0.000000       0.000000       0.000000  \n",
      "25%      -159.427418       0.000000       0.000000       0.000000  \n",
      "50%        -0.519808       0.000000       1.000000       0.000000  \n",
      "75%       158.987357       1.000000       2.000000       1.000000  \n",
      "max      1229.562577       1.000000       2.000000       1.000000  \n",
      "\n",
      "[8 rows x 31 columns]\n",
      "********** Test Data**********\n",
      "                f_00           f_01           f_02           f_03  \\\n",
      "count  700000.000000  700000.000000  700000.000000  700000.000000   \n",
      "mean       -0.000087      -0.000732      -0.000385       0.000705   \n",
      "std         1.000264       0.997131       1.000317       1.001758   \n",
      "min        -4.658018      -4.922718      -4.457561      -4.567419   \n",
      "25%        -0.675708      -0.674040      -0.675961      -0.674561   \n",
      "50%        -0.000395      -0.000241      -0.000723      -0.000294   \n",
      "75%         0.675788       0.671415       0.673105       0.676376   \n",
      "max         5.761950       4.768073       4.599902       4.899904   \n",
      "\n",
      "                f_04           f_05           f_06           f_07  \\\n",
      "count  700000.000000  700000.000000  700000.000000  700000.000000   \n",
      "mean        0.000800      -0.000468       0.002550       2.030819   \n",
      "std         0.999088       1.000249       0.999536       1.655909   \n",
      "min        -4.675301      -5.141356      -4.782164       0.000000   \n",
      "25%        -0.674696      -0.674444      -0.671481       1.000000   \n",
      "50%         0.000276      -0.001674       0.002623       2.000000   \n",
      "75%         0.674542       0.674146       0.676590       3.000000   \n",
      "max         4.494312       4.701004       4.673145      16.000000   \n",
      "\n",
      "                f_08           f_09  ...           f_20           f_21  \\\n",
      "count  700000.000000  700000.000000  ...  700000.000000  700000.000000   \n",
      "mean        2.056923       2.361191  ...      -0.173972      -0.153938   \n",
      "std         1.591726       1.636695  ...       2.397938       2.484198   \n",
      "min         0.000000       0.000000  ...     -11.089910     -12.186778   \n",
      "25%         1.000000       1.000000  ...      -1.794757      -1.816739   \n",
      "50%         2.000000       2.000000  ...      -0.184945      -0.149100   \n",
      "75%         3.000000       3.000000  ...       1.447103       1.508052   \n",
      "max        13.000000      16.000000  ...      10.691366      11.999494   \n",
      "\n",
      "                f_22           f_23           f_24           f_25  \\\n",
      "count  700000.000000  700000.000000  700000.000000  700000.000000   \n",
      "mean       -0.005623      -0.371983      -0.340683       0.174245   \n",
      "std         2.450907       2.452619       2.388938       2.417555   \n",
      "min       -11.700814     -12.104478     -11.838417     -13.312784   \n",
      "25%        -1.641035      -2.021342      -1.948923      -1.443815   \n",
      "50%         0.033726      -0.396281      -0.339431       0.165229   \n",
      "75%         1.664146       1.251361       1.269879       1.794429   \n",
      "max        10.991597      11.366652      10.236546      11.294340   \n",
      "\n",
      "                f_26           f_28           f_29           f_30  \n",
      "count  700000.000000  700000.000000  700000.000000  700000.000000  \n",
      "mean        0.356288       0.604213       0.346090       1.003081  \n",
      "std         2.477713     238.888993       0.475723       0.819673  \n",
      "min       -13.462486   -1204.243716       0.000000       0.000000  \n",
      "25%        -1.263991    -158.660917       0.000000       0.000000  \n",
      "50%         0.399981       0.671386       0.000000       1.000000  \n",
      "75%         2.025163     159.789006       1.000000       2.000000  \n",
      "max        12.811976    1141.957328       1.000000       2.000000  \n",
      "\n",
      "[8 rows x 30 columns]\n"
     ]
    }
   ],
   "source": [
    "# Displauing the statistics\n",
    "\n",
    "print(df.describe())\n",
    "print(f\"{'*'*10} Test Data{'*'*10}\")\n",
    "print(df_test.describe())"
   ]
  },
  {
   "cell_type": "code",
   "execution_count": 8,
   "metadata": {},
   "outputs": [
    {
     "data": {
      "text/plain": [
       "<AxesSubplot:xlabel='target', ylabel='count'>"
      ]
     },
     "execution_count": 8,
     "metadata": {},
     "output_type": "execute_result"
    },
    {
     "data": {
      "image/png": "[encoded data removed]",
      "text/plain": [
       "<Figure size 432x288 with 1 Axes>"
      ]
     },
     "metadata": {
      "needs_background": "light"
     },
     "output_type": "display_data"
    }
   ],
   "source": [
    "sns.countplot(x='target', data=df)\n",
    "## the classes are more or less "
   ]
  },
  {
   "cell_type": "code",
   "execution_count": 9,
   "metadata": {},
   "outputs": [
    {
     "data": {
      "text/plain": [
       "<AxesSubplot:>"
      ]
     },
     "execution_count": 9,
     "metadata": {},
     "output_type": "execute_result"
    },
    {
     "data": {
      "image/png": "[encoded data removed]",
      "text/plain": [
       "<Figure size 1440x1152 with 1 Axes>"
      ]
     },
     "metadata": {
      "needs_background": "light"
     },
     "output_type": "display_data"
    }
   ],
   "source": [
    "plt.figure(figsize=(20,16))\n",
    "df.corr()['target'].abs().sort_values().plot.barh()"
   ]
  },
  {
   "cell_type": "code",
   "execution_count": 11,
   "metadata": {},
   "outputs": [
    {
     "data": {
      "text/plain": [
       "<AxesSubplot:>"
      ]
     },
     "execution_count": 11,
     "metadata": {},
     "output_type": "execute_result"
    },
    {
     "data": {
      "image/png": "[encoded data removed]",
      "text/plain": [
       "<Figure size 1440x1152 with 1 Axes>"
      ]
     },
     "metadata": {
      "needs_background": "light"
     },
     "output_type": "display_data"
    }
   ],
   "source": [
    "plt.figure(figsize=(20,16))\n",
    "df.corr()['target'].sort_values().plot.barh()\n"
   ]
  },
  {
   "cell_type": "code",
   "execution_count": 68,
   "metadata": {},
   "outputs": [],
   "source": [
    "# dropping the columns that are less correlated to the target\n",
    "df= df.drop(columns=['f_03', 'f_04', 'f_07', 'f_16', 'f_17'])\n",
    "df_test= df_test.drop(columns=['f_03', 'f_04', 'f_07', 'f_16', 'f_17'])"
   ]
  },
  {
   "cell_type": "code",
   "execution_count": 69,
   "metadata": {},
   "outputs": [],
   "source": [
    "from sklearn.model_selection import train_test_split"
   ]
  },
  {
   "cell_type": "code",
   "execution_count": 70,
   "metadata": {},
   "outputs": [],
   "source": [
    "X, y=df.drop('target', axis=1), df['target']\n",
    "\n",
    "num_vars=X.select_dtypes(exclude=[object]).columns.values.tolist()\n",
    "#cat_var=X.select_dtypes(include=[object]).columns.values.tolist()"
   ]
  },
  {
   "cell_type": "code",
   "execution_count": 71,
   "metadata": {},
   "outputs": [],
   "source": [
    "from sklearn.preprocessing import OneHotEncoder, OrdinalEncoder, StandardScaler\n",
    "from sklearn.impute import SimpleImputer\n",
    "from sklearn.compose import ColumnTransformer\n",
    "from sklearn.pipeline import Pipeline, make_pipeline\n",
    "from sklearn.tree          import DecisionTreeClassifier\n",
    "from sklearn.ensemble      import RandomForestClassifier\n",
    "from sklearn.ensemble      import ExtraTreesClassifier\n",
    "#from sklearn.ensemble      import AdaBoostClassifier\n",
    "from sklearn.ensemble      import GradientBoostingClassifier\n",
    "from sklearn.ensemble      import HistGradientBoostingClassifier\n",
    "from xgboost               import XGBClassifier\n",
    "#from lightgbm              import LGBMClassifier\n",
    "from sklearn.model_selection        import train_test_split\n",
    "from sklearn.metrics                import accuracy_score, balanced_accuracy_score\n",
    "import time"
   ]
  },
  {
   "cell_type": "code",
   "execution_count": 72,
   "metadata": {},
   "outputs": [],
   "source": [
    "num_4_treeModels = Pipeline(steps=[\n",
    "    ('scaler', StandardScaler())\n",
    "    ])\n",
    "\n",
    "   # cat_object_type= Pipeline(steps=[\n",
    "    #('ordinal', OrdinalEncoder(handle_unknown='use_encoded_value', unknown_value=-1))\n",
    "    #])\n",
    "  \n",
    "tree_prepro = ColumnTransformer(transformers=[\n",
    "    ('num', num_4_treeModels, num_vars),\n",
    "    #('cat', cat_object_type, cat_vars),\n",
    "    ], remainder='drop') \n",
    "    "
   ]
  },
  {
   "cell_type": "code",
   "execution_count": 73,
   "metadata": {},
   "outputs": [
    {
     "ename": "TypeError",
     "evalue": "'ColumnTransformer' object is not callable",
     "output_type": "error",
     "traceback": [
      "\u001b[1;31m---------------------------------------------------------------------------\u001b[0m",
      "\u001b[1;31mTypeError\u001b[0m                                 Traceback (most recent call last)",
      "\u001b[1;32mc:\\Users\\KINGSLEY\\OneDrive\\Documents\\GitHub\\Playground-Series\\eda_test.ipynb Cell 21'\u001b[0m in \u001b[0;36m<cell line: 12>\u001b[1;34m()\u001b[0m\n\u001b[0;32m      <a href='vscode-notebook-cell:/c%3A/Users/KINGSLEY/OneDrive/Documents/GitHub/Playground-Series/eda_test.ipynb#ch0000024?line=0'>1</a>\u001b[0m tree_classifiers \u001b[39m=\u001b[39m {\n\u001b[0;32m      <a href='vscode-notebook-cell:/c%3A/Users/KINGSLEY/OneDrive/Documents/GitHub/Playground-Series/eda_test.ipynb#ch0000024?line=1'>2</a>\u001b[0m    \u001b[39m# \"Decision Tree\": DecisionTreeClassifier(random_state=0),\u001b[39;00m\n\u001b[0;32m      <a href='vscode-notebook-cell:/c%3A/Users/KINGSLEY/OneDrive/Documents/GitHub/Playground-Series/eda_test.ipynb#ch0000024?line=2'>3</a>\u001b[0m     \u001b[39m\"\u001b[39m\u001b[39mExtra Trees\u001b[39m\u001b[39m\"\u001b[39m:   ExtraTreesClassifier(random_state\u001b[39m=\u001b[39m\u001b[39m0\u001b[39m),\n\u001b[1;32m   (...)\u001b[0m\n\u001b[0;32m     <a href='vscode-notebook-cell:/c%3A/Users/KINGSLEY/OneDrive/Documents/GitHub/Playground-Series/eda_test.ipynb#ch0000024?line=9'>10</a>\u001b[0m     \n\u001b[0;32m     <a href='vscode-notebook-cell:/c%3A/Users/KINGSLEY/OneDrive/Documents/GitHub/Playground-Series/eda_test.ipynb#ch0000024?line=10'>11</a>\u001b[0m     }\n\u001b[1;32m---> <a href='vscode-notebook-cell:/c%3A/Users/KINGSLEY/OneDrive/Documents/GitHub/Playground-Series/eda_test.ipynb#ch0000024?line=11'>12</a>\u001b[0m classifier\u001b[39m=\u001b[39m {name: make_pipeline(tree_prepro(num_vars), model) \u001b[39mfor\u001b[39;00m name, model \u001b[39min\u001b[39;00m\n\u001b[0;32m     <a href='vscode-notebook-cell:/c%3A/Users/KINGSLEY/OneDrive/Documents/GitHub/Playground-Series/eda_test.ipynb#ch0000024?line=12'>13</a>\u001b[0m                                      tree_classifiers\u001b[39m.\u001b[39mitems()}\n",
      "\u001b[1;32mc:\\Users\\KINGSLEY\\OneDrive\\Documents\\GitHub\\Playground-Series\\eda_test.ipynb Cell 21'\u001b[0m in \u001b[0;36m<dictcomp>\u001b[1;34m(.0)\u001b[0m\n\u001b[0;32m      <a href='vscode-notebook-cell:/c%3A/Users/KINGSLEY/OneDrive/Documents/GitHub/Playground-Series/eda_test.ipynb#ch0000024?line=0'>1</a>\u001b[0m tree_classifiers \u001b[39m=\u001b[39m {\n\u001b[0;32m      <a href='vscode-notebook-cell:/c%3A/Users/KINGSLEY/OneDrive/Documents/GitHub/Playground-Series/eda_test.ipynb#ch0000024?line=1'>2</a>\u001b[0m    \u001b[39m# \"Decision Tree\": DecisionTreeClassifier(random_state=0),\u001b[39;00m\n\u001b[0;32m      <a href='vscode-notebook-cell:/c%3A/Users/KINGSLEY/OneDrive/Documents/GitHub/Playground-Series/eda_test.ipynb#ch0000024?line=2'>3</a>\u001b[0m     \u001b[39m\"\u001b[39m\u001b[39mExtra Trees\u001b[39m\u001b[39m\"\u001b[39m:   ExtraTreesClassifier(random_state\u001b[39m=\u001b[39m\u001b[39m0\u001b[39m),\n\u001b[1;32m   (...)\u001b[0m\n\u001b[0;32m     <a href='vscode-notebook-cell:/c%3A/Users/KINGSLEY/OneDrive/Documents/GitHub/Playground-Series/eda_test.ipynb#ch0000024?line=9'>10</a>\u001b[0m     \n\u001b[0;32m     <a href='vscode-notebook-cell:/c%3A/Users/KINGSLEY/OneDrive/Documents/GitHub/Playground-Series/eda_test.ipynb#ch0000024?line=10'>11</a>\u001b[0m     }\n\u001b[1;32m---> <a href='vscode-notebook-cell:/c%3A/Users/KINGSLEY/OneDrive/Documents/GitHub/Playground-Series/eda_test.ipynb#ch0000024?line=11'>12</a>\u001b[0m classifier\u001b[39m=\u001b[39m {name: make_pipeline(tree_prepro(num_vars), model) \u001b[39mfor\u001b[39;00m name, model \u001b[39min\u001b[39;00m\n\u001b[0;32m     <a href='vscode-notebook-cell:/c%3A/Users/KINGSLEY/OneDrive/Documents/GitHub/Playground-Series/eda_test.ipynb#ch0000024?line=12'>13</a>\u001b[0m                                      tree_classifiers\u001b[39m.\u001b[39mitems()}\n",
      "\u001b[1;31mTypeError\u001b[0m: 'ColumnTransformer' object is not callable"
     ]
    }
   ],
   "source": [
    "tree_classifiers = {\n",
    "   # \"Decision Tree\": DecisionTreeClassifier(random_state=0),\n",
    "    \"Extra Trees\":   ExtraTreesClassifier(random_state=0),\n",
    "    \"Random Forest\": RandomForestClassifier(random_state=0),\n",
    "    #\"AdaBoost\":      AdaBoostClassifier(random_state=0),\n",
    "    \"Skl GBM\":       GradientBoostingClassifier(random_state=0),\n",
    "    #\"Skl HistGBM\":   HistGradientBoostingClassifier(random_state=0),\n",
    "    \"XGBoost\":       XGBClassifier(),\n",
    "    #\"LightGBM\":      LGBMClassifier(random_state=0),\n",
    "    \n",
    "    }\n",
    "classifier= {name: make_pipeline(tree_prepro(num_vars), model) for name, model in\n",
    "                                     tree_classifiers.items()}\n"
   ]
  },
  {
   "cell_type": "code",
   "execution_count": null,
   "metadata": {},
   "outputs": [],
   "source": [
    "x_train, x_val, y_train, y_val= train_test_split(x, y, random_state=0,test_size=0.2, stratify=y) \n",
    "results = pd.DataFrame({'Model': [], 'Accuracy': [], 'Bal Acc.': [], 'Time': []})\n",
    "        \n",
    "for model_name, model in classifier.items():\n",
    "    \n",
    "    start_time = time.time()\n",
    "    model.fit(x_train, y_train)\n",
    "    total_time = time.time() - start_time\n",
    "        \n",
    "    pred = model.predict(x_val)\n",
    "    results = results.append({\"Model\":    model_name,\n",
    "                              \"Accuracy\": accuracy_score(y_val, pred)*100,\n",
    "                              \"Bal Acc.\": balanced_accuracy_score(y_val, pred)*100,\n",
    "                              \"Time\":     total_time},\n",
    "                              ignore_index=True)"
   ]
  },
  {
   "cell_type": "code",
   "execution_count": null,
   "metadata": {},
   "outputs": [],
   "source": [
    "results"
   ]
  }
 ],
 "metadata": {
  "interpreter": {
   "hash": "5a6304ca8a43c4aa64493eac53a72e88b6ae1a6f31d9c033f4f0965b5e332673"
  },
  "kernelspec": {
   "display_name": "Python 3.10.4 ('kingsley')",
   "language": "python",
   "name": "python3"
  },
  "language_info": {
   "codemirror_mode": {
    "name": "ipython",
    "version": 3
   },
   "file_extension": ".py",
   "mimetype": "text/x-python",
   "name": "python",
   "nbconvert_exporter": "python",
   "pygments_lexer": "ipython3",
   "version": "3.10.4"
  },
  "orig_nbformat": 4
 },
 "nbformat": 4,
 "nbformat_minor": 2
}
